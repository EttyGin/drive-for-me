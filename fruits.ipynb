{
 "cells": [
  {
   "cell_type": "code",
   "execution_count": null,
   "id": "a479e72d-5845-443f-8e25-47210ddaa633",
   "metadata": {},
   "outputs": [
    {
     "name": "stdout",
     "output_type": "stream",
     "text": [
      "Number of classes: 141\n"
     ]
    }
   ],
   "source": [
    "import torch\n",
    "from torch.utils.data import DataLoader\n",
    "from torchvision import datasets, transforms\n",
    "\n",
    "# הגדרות טרנספורמציות\n",
    "transform = transforms.Compose([\n",
    "    transforms.Resize((100, 100)),  # שינוי גודל אחיד\n",
    "    transforms.ToTensor(),          # המרת תמונה למטריצה נומרית\n",
    "])\n",
    "\n",
    "# נתיב לתיקיית הדאטהסט\n",
    "dataset_path = \"~/fruits-360\"  # עדכני את הנתיב בהתאם\n",
    "\n",
    "# טעינת הדאטהסט\n",
    "train_dataset = datasets.ImageFolder(root=f\"{dataset_path}/Training\", transform=transform)\n",
    "test_dataset = datasets.ImageFolder(root=f\"{dataset_path}/Test\", transform=transform)\n",
    "\n",
    "# יצירת DataLoader\n",
    "train_loader = DataLoader(train_dataset, batch_size=32, shuffle=True)\n",
    "test_loader = DataLoader(test_dataset, batch_size=32, shuffle=False)\n",
    "\n",
    "# בדיקת מספר הקטגוריות\n",
    "num_classes = len(train_dataset.classes)\n",
    "print(f\"Number of classes: {num_classes}\")\n"
   ]
  },
  {
   "cell_type": "code",
   "execution_count": 15,
   "id": "07ac1101",
   "metadata": {},
   "outputs": [
    {
     "name": "stdout",
     "output_type": "stream",
     "text": [
      "Class Mapping: {'Apple 6': 0, 'Apple Braeburn 1': 1, 'Apple Crimson Snow 1': 2, 'Apple Golden 1': 3, 'Apple Golden 2': 4, 'Apple Golden 3': 5, 'Apple Granny Smith 1': 6, 'Apple Pink Lady 1': 7, 'Apple Red 1': 8, 'Apple Red 2': 9, 'Apple Red 3': 10, 'Apple Red Delicious 1': 11, 'Apple Red Yellow 1': 12, 'Apple Red Yellow 2': 13, 'Apple hit 1': 14, 'Apricot 1': 15, 'Avocado 1': 16, 'Avocado ripe 1': 17, 'Banana 1': 18, 'Banana Lady Finger 1': 19, 'Banana Red 1': 20, 'Beetroot 1': 21, 'Blueberry 1': 22, 'Cabbage white 1': 23, 'Cactus fruit 1': 24, 'Cantaloupe 1': 25, 'Cantaloupe 2': 26, 'Carambula 1': 27, 'Carrot 1': 28, 'Cauliflower 1': 29, 'Cherry 1': 30, 'Cherry 2': 31, 'Cherry Rainier 1': 32, 'Cherry Wax Black 1': 33, 'Cherry Wax Red 1': 34, 'Cherry Wax Yellow 1': 35, 'Chestnut 1': 36, 'Clementine 1': 37, 'Cocos 1': 38, 'Corn 1': 39, 'Corn Husk 1': 40, 'Cucumber 1': 41, 'Cucumber 3': 42, 'Cucumber Ripe 1': 43, 'Cucumber Ripe 2': 44, 'Dates 1': 45, 'Eggplant 1': 46, 'Eggplant long 1': 47, 'Fig 1': 48, 'Ginger Root 1': 49, 'Granadilla 1': 50, 'Grape Blue 1': 51, 'Grape Pink 1': 52, 'Grape White 1': 53, 'Grape White 2': 54, 'Grape White 3': 55, 'Grape White 4': 56, 'Grapefruit Pink 1': 57, 'Grapefruit White 1': 58, 'Guava 1': 59, 'Hazelnut 1': 60, 'Huckleberry 1': 61, 'Kaki 1': 62, 'Kiwi 1': 63, 'Kohlrabi 1': 64, 'Kumquats 1': 65, 'Lemon 1': 66, 'Lemon Meyer 1': 67, 'Limes 1': 68, 'Lychee 1': 69, 'Mandarine 1': 70, 'Mango 1': 71, 'Mango Red 1': 72, 'Mangostan 1': 73, 'Maracuja 1': 74, 'Melon Piel de Sapo 1': 75, 'Mulberry 1': 76, 'Nectarine 1': 77, 'Nectarine Flat 1': 78, 'Nut Forest 1': 79, 'Nut Pecan 1': 80, 'Onion Red 1': 81, 'Onion Red Peeled 1': 82, 'Onion White 1': 83, 'Orange 1': 84, 'Papaya 1': 85, 'Passion Fruit 1': 86, 'Peach 1': 87, 'Peach 2': 88, 'Peach Flat 1': 89, 'Pear 1': 90, 'Pear 2': 91, 'Pear 3': 92, 'Pear Abate 1': 93, 'Pear Forelle 1': 94, 'Pear Kaiser 1': 95, 'Pear Monster 1': 96, 'Pear Red 1': 97, 'Pear Stone 1': 98, 'Pear Williams 1': 99, 'Pepino 1': 100, 'Pepper Green 1': 101, 'Pepper Orange 1': 102, 'Pepper Red 1': 103, 'Pepper Yellow 1': 104, 'Physalis 1': 105, 'Physalis with Husk 1': 106, 'Pineapple 1': 107, 'Pineapple Mini 1': 108, 'Pitahaya Red 1': 109, 'Plum 1': 110, 'Plum 2': 111, 'Plum 3': 112, 'Pomegranate 1': 113, 'Pomelo Sweetie 1': 114, 'Potato Red 1': 115, 'Potato Red Washed 1': 116, 'Potato Sweet 1': 117, 'Potato White 1': 118, 'Quince 1': 119, 'Rambutan 1': 120, 'Raspberry 1': 121, 'Redcurrant 1': 122, 'Salak 1': 123, 'Strawberry 1': 124, 'Strawberry Wedge 1': 125, 'Tamarillo 1': 126, 'Tangelo 1': 127, 'Tomato 1': 128, 'Tomato 2': 129, 'Tomato 3': 130, 'Tomato 4': 131, 'Tomato Cherry Red 1': 132, 'Tomato Heart 1': 133, 'Tomato Maroon 1': 134, 'Tomato Yellow 1': 135, 'Tomato not Ripened 1': 136, 'Walnut 1': 137, 'Watermelon 1': 138, 'Zucchini 1': 139, 'Zucchini dark 1': 140}\n"
     ]
    }
   ],
   "source": [
    "# רשימת כל הקטגוריות\n",
    "class_names = train_dataset.classes\n",
    "\n",
    "# מיפוי שם קטגוריה לאינדקס\n",
    "class_to_idx = train_dataset.class_to_idx\n",
    "idx_to_class = {v: k for k, v in class_to_idx.items()}\n",
    "\n",
    "# הדפסת המיפוי\n",
    "print(\"Class Mapping:\", class_to_idx)\n"
   ]
  },
  {
   "cell_type": "code",
   "execution_count": 23,
   "id": "ab47d089",
   "metadata": {},
   "outputs": [
    {
     "name": "stdout",
     "output_type": "stream",
     "text": [
      "tensor([[0., 0., 0., 0., 0., 0., 0., 0., 0., 0., 0., 0., 0., 0., 0., 0., 0., 0.,\n",
      "         0., 0., 0., 0., 0., 0., 0., 0., 0., 0., 0., 0., 0., 0., 0., 0., 0., 0.,\n",
      "         0., 0., 0., 0., 0., 0., 0., 0., 0., 0., 0., 0., 0., 0., 0., 0., 0., 0.,\n",
      "         0., 0., 0., 0., 0., 0., 0., 0., 0., 0., 0., 0., 0., 0., 0., 0., 0., 0.,\n",
      "         0., 0., 0., 0., 0., 0., 0., 0., 0., 0., 0., 0., 0., 0., 0., 0., 0., 0.,\n",
      "         0., 0., 0., 0., 0., 0., 0., 0., 0., 0., 0., 0., 0., 0., 0., 0., 0., 0.,\n",
      "         0., 0., 0., 0., 0., 0., 0., 0., 0., 0., 0., 0., 0., 0., 0., 0., 0., 0.,\n",
      "         0., 0., 0., 0., 0., 0., 0., 0., 0., 0., 0., 0., 0., 0., 1.]])\n"
     ]
    }
   ],
   "source": [
    "import torch.nn.functional as F\n",
    "\n",
    "# פונקציה להמרת תווית אינדקס ל-One-Hot Encoding\n",
    "def one_hot_encode(labels, num_classes):\n",
    "    return F.one_hot(labels, num_classes).float()  # מוודאים float למודל\n",
    "\n",
    "# דוגמה:\n",
    "labels_tensor = torch.tensor([140])  # נניח שקיבלנו 3 דוגמאות עם התוויות האלו\n",
    "one_hot_labels = one_hot_encode(labels_tensor, num_classes)\n",
    "print(one_hot_labels)\n"
   ]
  },
  {
   "cell_type": "markdown",
   "id": "93354d4a",
   "metadata": {},
   "source": [
    "2. הגדרת המודל\n"
   ]
  },
  {
   "cell_type": "code",
   "execution_count": null,
   "id": "dd565fcc",
   "metadata": {},
   "outputs": [],
   "source": [
    "import torch.nn as nn\n",
    "import torch.nn.functional as F\n",
    "\n",
    "class CNN(nn.Module):\n",
    "    def __init__(self, num_classes):\n",
    "        super(CNN, self).__init__()\n",
    "        self.conv1 = nn.Conv2d(in_channels=3, out_channels=32, kernel_size=3, stride=1, padding=1)\n",
    "        self.conv2 = nn.Conv2d(32, 64, kernel_size=3, stride=1, padding=1)\n",
    "        self.pool = nn.MaxPool2d(kernel_size=2, stride=2)\n",
    "        self.fc1 = nn.Linear(64 * 25 * 25, 128)\n",
    "        self.fc2 = nn.Linear(128, num_classes)  # לא משתמשים ב-Softmax כאן\n",
    "\n",
    "    def forward(self, x):\n",
    "        x = self.pool(F.relu(self.conv1(x)))\n",
    "        x = self.pool(F.relu(self.conv2(x)))\n",
    "        x = x.view(x.size(0), -1)\n",
    "        x = F.relu(self.fc1(x))\n",
    "        x = torch.sigmoid(self.fc2(x))  # שינוי ל-Sigmoid\n",
    "        return x\n",
    "\n"
   ]
  },
  {
   "cell_type": "code",
   "execution_count": null,
   "id": "7b62a79d",
   "metadata": {},
   "outputs": [],
   "source": [
    "import torch\n",
    "import torch.nn as nn\n",
    "import torch.nn.functional as F\n",
    "\n",
    "class SmallFruitCNN(nn.Module):\n",
    "    def __init__(self, num_classes):\n",
    "        super(SmallFruitCNN, self).__init__()\n",
    "        self.conv1 = nn.Conv2d(3, 16, kernel_size=3, stride=1, padding=1)\n",
    "        self.pool = nn.MaxPool2d(2, 2)\n",
    "        self.conv2 = nn.Conv2d(16, 32, kernel_size=3, stride=1, padding=1)\n",
    "        self.fc1 = nn.Linear(32 * 25 * 25, 64)  \n",
    "        self.fc2 = nn.Linear(64, num_classes)\n",
    "\n",
    "    def forward(self, x):\n",
    "        x = self.pool(F.relu(self.conv1(x)))  # Conv1 + ReLU + MaxPool\n",
    "        x = self.pool(F.relu(self.conv2(x)))  # Conv2 + ReLU + MaxPool\n",
    "        x = x.view(x.size(0), -1)  # Flatten\n",
    "        x = F.relu(self.fc1(x))  # Fully Connected\n",
    "        x = torch.sigmoid(self.fc2(x))  # Output layer\n",
    "        return x\n"
   ]
  },
  {
   "cell_type": "code",
   "execution_count": null,
   "id": "138f54fe",
   "metadata": {},
   "outputs": [],
   "source": [
    "1️⃣ Conv2D (שכבת קונבולוציה)\n",
    "מוציאה פילטרים (kernels) קטנים שמגלים מאפיינים בתמונה (כמו קצוות וצבעים).\n",
    "בדוגמה שלנו, Conv2D(3→16, 3x3):\n",
    "מקבלת תמונה עם 3 ערוצים (RGB).\n",
    "מפיקה 16 פילטרים בגודל 3x3.\n",
    "2️⃣ ReLU (Rectified Linear Unit)\n",
    "פונקציית הפעלה (Activation Function).\n",
    "הופכת ערכים שליליים ל-0, כדי לשמור על מידע משמעותי.\n",
    "3️⃣ MaxPooling2D\n",
    "לוקחת בלוקים של 2x2 פיקסלים ושומרת רק את הערך הכי גבוה.\n",
    "מקטינה את התמונה (למשל מ-100×100 ל-50×50).\n",
    "עוזרת למודל להתמקד במידע החשוב.\n",
    "4️⃣ Flatten\n",
    "הופכת את התמונה ממטריצה לווקטור.\n",
    "אם גודל הפלט הוא (32, 25, 25), הוא נהפך לוקטור של 20,000 ערכים.\n",
    "5️⃣ Fully Connected (FC)\n",
    "מחברת את כל הנוירונים בשכבה אחת לשנייה.\n",
    "FC(20,000→64) – לוקח את ה-20,000 ערכים מה-Flatten ומוציא רק 64 ערכים חשובים.\n",
    "FC(64→num_classes) – מחבר את 64 הערכים ל-כמות הקטגוריות של הפירות.\n",
    "6️⃣ Sigmoid\n",
    "הופך את התוצאות לערכים בין 0 ל-1 (כדי לקבל הסתברות לכל פרי)."
   ]
  },
  {
   "cell_type": "markdown",
   "id": "719e8cf6",
   "metadata": {},
   "source": [
    "3. הגדרת פונקציית האובדן והאופטימיזציה\n"
   ]
  },
  {
   "cell_type": "code",
   "execution_count": 9,
   "id": "fec03f41",
   "metadata": {},
   "outputs": [],
   "source": [
    "import torch.optim as optim\n",
    "\n",
    "# יצירת מודל\n",
    "model = CNN(num_classes=num_classes)\n",
    "\n",
    "# פונקציית אובדן ואופטימייזר\n",
    "criterion = nn.CrossEntropyLoss()\n",
    "optimizer = optim.Adam(model.parameters(), lr=0.001)\n"
   ]
  },
  {
   "cell_type": "markdown",
   "id": "c11e0211",
   "metadata": {},
   "source": [
    "4. אימון המודל\n"
   ]
  },
  {
   "cell_type": "code",
   "execution_count": 14,
   "id": "db4c565e",
   "metadata": {},
   "outputs": [
    {
     "name": "stdout",
     "output_type": "stream",
     "text": [
      "/bin/bash: line 1: nvidia-smi: command not found\n"
     ]
    }
   ],
   "source": [
    "!nvidia-smi"
   ]
  },
  {
   "cell_type": "code",
   "execution_count": 25,
   "id": "3f3b7531",
   "metadata": {},
   "outputs": [
    {
     "name": "stdout",
     "output_type": "stream",
     "text": [
      "Using device: cuda:0\n"
     ]
    }
   ],
   "source": [
    "device = torch.device(\"cuda:0\") # if torch.cuda.is_available() else \"cpu\")\n",
    "print(f\"Using device: {device}\")\n"
   ]
  },
  {
   "cell_type": "code",
   "execution_count": 26,
   "id": "910ad5a9",
   "metadata": {},
   "outputs": [
    {
     "ename": "RuntimeError",
     "evalue": "Found no NVIDIA driver on your system. Please check that you have an NVIDIA GPU and installed a driver from http://www.nvidia.com/Download/index.aspx",
     "output_type": "error",
     "traceback": [
      "\u001b[0;31m---------------------------------------------------------------------------\u001b[0m",
      "\u001b[0;31mRuntimeError\u001b[0m                              Traceback (most recent call last)",
      "\u001b[0;32m/tmp/ipykernel_44065/2419594568.py\u001b[0m in \u001b[0;36m<module>\u001b[0;34m\u001b[0m\n\u001b[1;32m      4\u001b[0m     \u001b[0mrunning_loss\u001b[0m \u001b[0;34m=\u001b[0m \u001b[0;36m0.0\u001b[0m\u001b[0;34m\u001b[0m\u001b[0;34m\u001b[0m\u001b[0m\n\u001b[1;32m      5\u001b[0m     \u001b[0;32mfor\u001b[0m \u001b[0mimages\u001b[0m\u001b[0;34m,\u001b[0m \u001b[0mlabels\u001b[0m \u001b[0;32min\u001b[0m \u001b[0mtrain_loader\u001b[0m\u001b[0;34m:\u001b[0m\u001b[0;34m\u001b[0m\u001b[0;34m\u001b[0m\u001b[0m\n\u001b[0;32m----> 6\u001b[0;31m         \u001b[0mimages\u001b[0m\u001b[0;34m,\u001b[0m \u001b[0mlabels\u001b[0m \u001b[0;34m=\u001b[0m \u001b[0mimages\u001b[0m\u001b[0;34m.\u001b[0m\u001b[0mto\u001b[0m\u001b[0;34m(\u001b[0m\u001b[0mdevice\u001b[0m\u001b[0;34m)\u001b[0m\u001b[0;34m,\u001b[0m \u001b[0mlabels\u001b[0m\u001b[0;34m.\u001b[0m\u001b[0mto\u001b[0m\u001b[0;34m(\u001b[0m\u001b[0mdevice\u001b[0m\u001b[0;34m)\u001b[0m\u001b[0;34m\u001b[0m\u001b[0;34m\u001b[0m\u001b[0m\n\u001b[0m\u001b[1;32m      7\u001b[0m         \u001b[0mlabels_one_hot\u001b[0m \u001b[0;34m=\u001b[0m \u001b[0mone_hot_encode\u001b[0m\u001b[0;34m(\u001b[0m\u001b[0mlabels\u001b[0m\u001b[0;34m,\u001b[0m \u001b[0mnum_classes\u001b[0m\u001b[0;34m)\u001b[0m\u001b[0;34m.\u001b[0m\u001b[0mto\u001b[0m\u001b[0;34m(\u001b[0m\u001b[0mdevice\u001b[0m\u001b[0;34m)\u001b[0m  \u001b[0;31m# המרת תוויות\u001b[0m\u001b[0;34m\u001b[0m\u001b[0;34m\u001b[0m\u001b[0m\n\u001b[1;32m      8\u001b[0m \u001b[0;34m\u001b[0m\u001b[0m\n",
      "\u001b[0;32m~/.local/lib/python3.10/site-packages/torch/cuda/__init__.py\u001b[0m in \u001b[0;36m_lazy_init\u001b[0;34m()\u001b[0m\n\u001b[1;32m    317\u001b[0m         \u001b[0;32mif\u001b[0m \u001b[0;34m\"CUDA_MODULE_LOADING\"\u001b[0m \u001b[0;32mnot\u001b[0m \u001b[0;32min\u001b[0m \u001b[0mos\u001b[0m\u001b[0;34m.\u001b[0m\u001b[0menviron\u001b[0m\u001b[0;34m:\u001b[0m\u001b[0;34m\u001b[0m\u001b[0;34m\u001b[0m\u001b[0m\n\u001b[1;32m    318\u001b[0m             \u001b[0mos\u001b[0m\u001b[0;34m.\u001b[0m\u001b[0menviron\u001b[0m\u001b[0;34m[\u001b[0m\u001b[0;34m\"CUDA_MODULE_LOADING\"\u001b[0m\u001b[0;34m]\u001b[0m \u001b[0;34m=\u001b[0m \u001b[0;34m\"LAZY\"\u001b[0m\u001b[0;34m\u001b[0m\u001b[0;34m\u001b[0m\u001b[0m\n\u001b[0;32m--> 319\u001b[0;31m         \u001b[0mtorch\u001b[0m\u001b[0;34m.\u001b[0m\u001b[0m_C\u001b[0m\u001b[0;34m.\u001b[0m\u001b[0m_cuda_init\u001b[0m\u001b[0;34m(\u001b[0m\u001b[0;34m)\u001b[0m\u001b[0;34m\u001b[0m\u001b[0;34m\u001b[0m\u001b[0m\n\u001b[0m\u001b[1;32m    320\u001b[0m         \u001b[0;31m# Some of the queued calls may reentrantly call _lazy_init();\u001b[0m\u001b[0;34m\u001b[0m\u001b[0;34m\u001b[0m\u001b[0m\n\u001b[1;32m    321\u001b[0m         \u001b[0;31m# we need to just return without initializing in that case.\u001b[0m\u001b[0;34m\u001b[0m\u001b[0;34m\u001b[0m\u001b[0m\n",
      "\u001b[0;31mRuntimeError\u001b[0m: Found no NVIDIA driver on your system. Please check that you have an NVIDIA GPU and installed a driver from http://www.nvidia.com/Download/index.aspx"
     ]
    }
   ],
   "source": [
    "num_epochs = 10  # אפשר להגדיל לפי הצורך\n",
    "# לולאת אימון עם One-Hot Encoding\n",
    "for epoch in range(num_epochs):\n",
    "    running_loss = 0.0\n",
    "    for images, labels in train_loader:\n",
    "        images, labels = images.to(device), labels.to(device)\n",
    "        labels_one_hot = one_hot_encode(labels, num_classes).to(device)  # המרת תוויות\n",
    "\n",
    "        optimizer.zero_grad()\n",
    "        outputs = model(images)\n",
    "        loss = criterion(outputs, labels_one_hot)  # השוואה ל-One-Hot\n",
    "        loss.backward()\n",
    "        optimizer.step()\n",
    "\n",
    "        running_loss += loss.item()\n",
    "\n",
    "    print(f\"Epoch {epoch+1}/{num_epochs}, Loss: {running_loss / len(train_loader)}\")\n",
    "\n",
    "print(\"Training complete!\")\n",
    "\n"
   ]
  },
  {
   "cell_type": "markdown",
   "id": "c6690ad1",
   "metadata": {},
   "source": [
    "5. בדיקת המודל\n"
   ]
  },
  {
   "cell_type": "code",
   "execution_count": null,
   "id": "d3330715",
   "metadata": {},
   "outputs": [],
   "source": [
    "correct = 0\n",
    "total = 0\n",
    "\n",
    "with torch.no_grad():\n",
    "    for images, labels in test_loader:\n",
    "        images, labels = images.to(device), labels.to(device)\n",
    "        labels_one_hot = one_hot_encode(labels, num_classes).to(device)\n",
    "\n",
    "        outputs = model(images)\n",
    "        predicted = torch.argmax(outputs, dim=1)  # המרת One-Hot לאינדקס\n",
    "        \n",
    "        total += labels.size(0)\n",
    "        correct += (predicted == labels).sum().item()\n",
    "\n",
    "accuracy = 100 * correct / total\n",
    "print(f\"Test Accuracy: {accuracy:.2f}%\")\n",
    "\n"
   ]
  }
 ],
 "metadata": {
  "kernelspec": {
   "display_name": "Python 3",
   "language": "python",
   "name": "python3"
  },
  "language_info": {
   "codemirror_mode": {
    "name": "ipython",
    "version": 3
   },
   "file_extension": ".py",
   "mimetype": "text/x-python",
   "name": "python",
   "nbconvert_exporter": "python",
   "pygments_lexer": "ipython3",
   "version": "3.10.12"
  }
 },
 "nbformat": 4,
 "nbformat_minor": 5
}
